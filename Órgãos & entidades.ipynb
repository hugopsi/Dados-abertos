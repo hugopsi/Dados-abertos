{
 "cells": [
  {
   "cell_type": "code",
   "execution_count": 11,
   "metadata": {
    "collapsed": true
   },
   "outputs": [],
   "source": [
    "import json\n",
    "import urllib.request\n",
    "import pandas as pd"
   ]
  },
  {
   "cell_type": "code",
   "execution_count": 3,
   "metadata": {
    "collapsed": false
   },
   "outputs": [],
   "source": [
    "url = 'http://estruturaorganizacional.dados.gov.br/doc/orgao-entidade'"
   ]
  },
  {
   "cell_type": "code",
   "execution_count": 13,
   "metadata": {
    "collapsed": false
   },
   "outputs": [],
   "source": [
    "serviço = json.loads(urllib.request.urlopen(url).read().decode())"
   ]
  },
  {
   "cell_type": "code",
   "execution_count": 46,
   "metadata": {
    "collapsed": false
   },
   "outputs": [],
   "source": [
    "data = pd.DataFrame(serviço['unidades'])"
   ]
  },
  {
   "cell_type": "code",
   "execution_count": null,
   "metadata": {
    "collapsed": true
   },
   "outputs": [],
   "source": []
  },
  {
   "cell_type": "code",
   "execution_count": 16,
   "metadata": {
    "collapsed": false
   },
   "outputs": [
    {
     "data": {
      "text/plain": [
       "Index(['codigoEsfera', 'codigoNaturezaJuridica', 'codigoOrgaoEntidade',\n",
       "       'codigoPoder', 'codigoSubNaturezaJuridica', 'codigoTipoUnidade',\n",
       "       'codigoUnidade', 'codigoUnidadePai', 'dataFinalVersaoConsulta',\n",
       "       'dataInicialVersaoConsulta', 'nivelNormatizacao', 'nome', 'operacao',\n",
       "       'sigla', 'versaoConsulta'],\n",
       "      dtype='object')"
      ]
     },
     "execution_count": 16,
     "metadata": {},
     "output_type": "execute_result"
    }
   ],
   "source": [
    "data.columns"
   ]
  },
  {
   "cell_type": "code",
   "execution_count": 47,
   "metadata": {
    "collapsed": false
   },
   "outputs": [],
   "source": [
    "data_1 = data[['nome','codigoNaturezaJuridica']]"
   ]
  },
  {
   "cell_type": "code",
   "execution_count": null,
   "metadata": {
    "collapsed": true
   },
   "outputs": [],
   "source": []
  },
  {
   "cell_type": "code",
   "execution_count": 25,
   "metadata": {
    "collapsed": false
   },
   "outputs": [
    {
     "data": {
      "text/plain": [
       "array(['http://estruturaorganizacional.dados.gov.br/id/natureza-juridica/3',\n",
       "       'http://estruturaorganizacional.dados.gov.br/id/natureza-juridica/1',\n",
       "       'http://estruturaorganizacional.dados.gov.br/id/natureza-juridica/2',\n",
       "       'http://estruturaorganizacional.dados.gov.br/id/natureza-juridica/6',\n",
       "       'http://estruturaorganizacional.dados.gov.br/id/natureza-juridica/4'], dtype=object)"
      ]
     },
     "execution_count": 25,
     "metadata": {},
     "output_type": "execute_result"
    }
   ],
   "source": [
    "data_1['codigoNaturezaJuridica'].unique()"
   ]
  },
  {
   "cell_type": "code",
   "execution_count": 39,
   "metadata": {
    "collapsed": false
   },
   "outputs": [],
   "source": [
    "def substitua(item):    \n",
    "    if item == 'http://estruturaorganizacional.dados.gov.br/id/natureza-juridica/3': return 'Administração Direta'\n",
    "    elif item == 'http://estruturaorganizacional.dados.gov.br/id/natureza-juridica/1': return 'Empresa Pública'\n",
    "    elif item == 'http://estruturaorganizacional.dados.gov.br/id/natureza-juridica/2': return 'Fundação Pública'\n",
    "    elif item == 'http://estruturaorganizacional.dados.gov.br/id/natureza-juridica/6': return 'Sociedade de Economia Mista'\n",
    "    elif item == 'http://estruturaorganizacional.dados.gov.br/id/natureza-juridica/4': return 'Autarquia'        "
   ]
  },
  {
   "cell_type": "code",
   "execution_count": 57,
   "metadata": {
    "collapsed": false
   },
   "outputs": [
    {
     "name": "stderr",
     "output_type": "stream",
     "text": [
      "C:\\Users\\71488804168\\AppData\\Local\\Continuum\\Anaconda3\\lib\\site-packages\\ipykernel\\__main__.py:1: SettingWithCopyWarning: \n",
      "A value is trying to be set on a copy of a slice from a DataFrame.\n",
      "Try using .loc[row_indexer,col_indexer] = value instead\n",
      "\n",
      "See the caveats in the documentation: http://pandas.pydata.org/pandas-docs/stable/indexing.html#indexing-view-versus-copy\n",
      "  if __name__ == '__main__':\n",
      "C:\\Users\\71488804168\\AppData\\Local\\Continuum\\Anaconda3\\lib\\site-packages\\ipykernel\\__main__.py:2: SettingWithCopyWarning: \n",
      "A value is trying to be set on a copy of a slice from a DataFrame.\n",
      "Try using .loc[row_indexer,col_indexer] = value instead\n",
      "\n",
      "See the caveats in the documentation: http://pandas.pydata.org/pandas-docs/stable/indexing.html#indexing-view-versus-copy\n",
      "  from ipykernel import kernelapp as app\n",
      "C:\\Users\\71488804168\\AppData\\Local\\Continuum\\Anaconda3\\lib\\site-packages\\ipykernel\\__main__.py:3: SettingWithCopyWarning: \n",
      "A value is trying to be set on a copy of a slice from a DataFrame.\n",
      "Try using .loc[row_indexer,col_indexer] = value instead\n",
      "\n",
      "See the caveats in the documentation: http://pandas.pydata.org/pandas-docs/stable/indexing.html#indexing-view-versus-copy\n",
      "  app.launch_new_instance()\n",
      "C:\\Users\\71488804168\\AppData\\Local\\Continuum\\Anaconda3\\lib\\site-packages\\ipykernel\\__main__.py:4: SettingWithCopyWarning: \n",
      "A value is trying to be set on a copy of a slice from a DataFrame.\n",
      "Try using .loc[row_indexer,col_indexer] = value instead\n",
      "\n",
      "See the caveats in the documentation: http://pandas.pydata.org/pandas-docs/stable/indexing.html#indexing-view-versus-copy\n",
      "C:\\Users\\71488804168\\AppData\\Local\\Continuum\\Anaconda3\\lib\\site-packages\\ipykernel\\__main__.py:5: SettingWithCopyWarning: \n",
      "A value is trying to be set on a copy of a slice from a DataFrame.\n",
      "Try using .loc[row_indexer,col_indexer] = value instead\n",
      "\n",
      "See the caveats in the documentation: http://pandas.pydata.org/pandas-docs/stable/indexing.html#indexing-view-versus-copy\n"
     ]
    }
   ],
   "source": [
    "data_1['codigoNaturezaJuridica'] = data_1['codigoNaturezaJuridica'].str.replace('http://estruturaorganizacional.dados.gov.br/id/natureza-juridica/1', 'Empresa Pública')\n",
    "data_1['codigoNaturezaJuridica'] = data_1['codigoNaturezaJuridica'].str.replace('http://estruturaorganizacional.dados.gov.br/id/natureza-juridica/2', 'Fundação Pública')\n",
    "data_1['codigoNaturezaJuridica'] = data_1['codigoNaturezaJuridica'].str.replace('http://estruturaorganizacional.dados.gov.br/id/natureza-juridica/3', 'Administração Direta')\n",
    "data_1['codigoNaturezaJuridica'] = data_1['codigoNaturezaJuridica'].str.replace('http://estruturaorganizacional.dados.gov.br/id/natureza-juridica/4', 'Autarquia')\n",
    "data_1['codigoNaturezaJuridica'] = data_1['codigoNaturezaJuridica'].str.replace('http://estruturaorganizacional.dados.gov.br/id/natureza-juridica/6', 'Sociedade de Economia Mista')"
   ]
  },
  {
   "cell_type": "code",
   "execution_count": 61,
   "metadata": {
    "collapsed": false
   },
   "outputs": [],
   "source": [
    "data_1 = data_1.drop(data_1['nome'] == 'Governo do Distrito Federal')"
   ]
  },
  {
   "cell_type": "code",
   "execution_count": 75,
   "metadata": {
    "collapsed": false
   },
   "outputs": [],
   "source": [
    "final = data_1.sort_values(axis=0, by='nome').reset_index(drop=True)\n"
   ]
  },
  {
   "cell_type": "code",
   "execution_count": 76,
   "metadata": {
    "collapsed": false
   },
   "outputs": [
    {
     "data": {
      "text/html": [
       "<div>\n",
       "<table border=\"1\" class=\"dataframe\">\n",
       "  <thead>\n",
       "    <tr style=\"text-align: right;\">\n",
       "      <th></th>\n",
       "      <th>nome</th>\n",
       "      <th>codigoNaturezaJuridica</th>\n",
       "    </tr>\n",
       "  </thead>\n",
       "  <tbody>\n",
       "    <tr>\n",
       "      <th>0</th>\n",
       "      <td>Advocacia-Geral da União</td>\n",
       "      <td>Administração Direta</td>\n",
       "    </tr>\n",
       "    <tr>\n",
       "      <th>1</th>\n",
       "      <td>Agência Brasileira Gestora de Fundos Garantido...</td>\n",
       "      <td>Empresa Pública</td>\n",
       "    </tr>\n",
       "    <tr>\n",
       "      <th>2</th>\n",
       "      <td>Agência Espacial Brasileira</td>\n",
       "      <td>Autarquia</td>\n",
       "    </tr>\n",
       "    <tr>\n",
       "      <th>3</th>\n",
       "      <td>Agência Nacional de Aviação Civil</td>\n",
       "      <td>Autarquia</td>\n",
       "    </tr>\n",
       "    <tr>\n",
       "      <th>4</th>\n",
       "      <td>Agência Nacional de Energia Elétrica</td>\n",
       "      <td>Autarquia</td>\n",
       "    </tr>\n",
       "    <tr>\n",
       "      <th>5</th>\n",
       "      <td>Agência Nacional de Saúde Suplementar</td>\n",
       "      <td>Autarquia</td>\n",
       "    </tr>\n",
       "    <tr>\n",
       "      <th>6</th>\n",
       "      <td>Agência Nacional de Telecomunicações</td>\n",
       "      <td>Autarquia</td>\n",
       "    </tr>\n",
       "    <tr>\n",
       "      <th>7</th>\n",
       "      <td>Agência Nacional de Transportes Aquaviários</td>\n",
       "      <td>Autarquia</td>\n",
       "    </tr>\n",
       "    <tr>\n",
       "      <th>8</th>\n",
       "      <td>Agência Nacional de Transportes Terrestres</td>\n",
       "      <td>Autarquia</td>\n",
       "    </tr>\n",
       "    <tr>\n",
       "      <th>9</th>\n",
       "      <td>Agência Nacional de Vigilância Sanitária</td>\n",
       "      <td>Autarquia</td>\n",
       "    </tr>\n",
       "    <tr>\n",
       "      <th>10</th>\n",
       "      <td>Agência Nacional de Águas</td>\n",
       "      <td>Autarquia</td>\n",
       "    </tr>\n",
       "    <tr>\n",
       "      <th>11</th>\n",
       "      <td>Agência Nacional do Cinema</td>\n",
       "      <td>Autarquia</td>\n",
       "    </tr>\n",
       "    <tr>\n",
       "      <th>12</th>\n",
       "      <td>Agência Nacional do Petróleo, Gás Natural e Bi...</td>\n",
       "      <td>Autarquia</td>\n",
       "    </tr>\n",
       "    <tr>\n",
       "      <th>13</th>\n",
       "      <td>Amazônia Azul Tecnologias de Defesa S.A.</td>\n",
       "      <td>Empresa Pública</td>\n",
       "    </tr>\n",
       "    <tr>\n",
       "      <th>14</th>\n",
       "      <td>Assessoria Especial do Presidente da República</td>\n",
       "      <td>Administração Direta</td>\n",
       "    </tr>\n",
       "    <tr>\n",
       "      <th>15</th>\n",
       "      <td>Autoridade Pública Olímpica</td>\n",
       "      <td>Autarquia</td>\n",
       "    </tr>\n",
       "    <tr>\n",
       "      <th>16</th>\n",
       "      <td>Banco Central do Brasil</td>\n",
       "      <td>Autarquia</td>\n",
       "    </tr>\n",
       "    <tr>\n",
       "      <th>17</th>\n",
       "      <td>Banco Nacional de Desenvolvimento Econômico e ...</td>\n",
       "      <td>Empresa Pública</td>\n",
       "    </tr>\n",
       "    <tr>\n",
       "      <th>18</th>\n",
       "      <td>Banco da Amazônia S.A.</td>\n",
       "      <td>Sociedade de Economia Mista</td>\n",
       "    </tr>\n",
       "    <tr>\n",
       "      <th>19</th>\n",
       "      <td>Banco do Brasil S.A.</td>\n",
       "      <td>Sociedade de Economia Mista</td>\n",
       "    </tr>\n",
       "    <tr>\n",
       "      <th>20</th>\n",
       "      <td>Banco do Nordeste do Brasil S.A.</td>\n",
       "      <td>Sociedade de Economia Mista</td>\n",
       "    </tr>\n",
       "    <tr>\n",
       "      <th>21</th>\n",
       "      <td>Caixa Econômica Federal</td>\n",
       "      <td>Empresa Pública</td>\n",
       "    </tr>\n",
       "    <tr>\n",
       "      <th>22</th>\n",
       "      <td>Caixa de Construções de Casas para o Pessoal d...</td>\n",
       "      <td>Autarquia</td>\n",
       "    </tr>\n",
       "    <tr>\n",
       "      <th>23</th>\n",
       "      <td>Caixa de Financiamento Imobiliário da Aeronáutica</td>\n",
       "      <td>Autarquia</td>\n",
       "    </tr>\n",
       "    <tr>\n",
       "      <th>24</th>\n",
       "      <td>Casa Civil da Presidência da República</td>\n",
       "      <td>Administração Direta</td>\n",
       "    </tr>\n",
       "    <tr>\n",
       "      <th>25</th>\n",
       "      <td>Casa Civil da Presidência da República</td>\n",
       "      <td>Administração Direta</td>\n",
       "    </tr>\n",
       "    <tr>\n",
       "      <th>26</th>\n",
       "      <td>Casa da Moeda do Brasil</td>\n",
       "      <td>Empresa Pública</td>\n",
       "    </tr>\n",
       "    <tr>\n",
       "      <th>27</th>\n",
       "      <td>Centrais Elétricas Brasileiras S/A</td>\n",
       "      <td>Sociedade de Economia Mista</td>\n",
       "    </tr>\n",
       "    <tr>\n",
       "      <th>28</th>\n",
       "      <td>Centrais Elétricas Brasileiras S/A</td>\n",
       "      <td>Sociedade de Economia Mista</td>\n",
       "    </tr>\n",
       "    <tr>\n",
       "      <th>29</th>\n",
       "      <td>Centrais de Abastecimento de Minas Gerais S.A.</td>\n",
       "      <td>Sociedade de Economia Mista</td>\n",
       "    </tr>\n",
       "    <tr>\n",
       "      <th>...</th>\n",
       "      <td>...</td>\n",
       "      <td>...</td>\n",
       "    </tr>\n",
       "    <tr>\n",
       "      <th>252</th>\n",
       "      <td>Universidade Federal de Goiás</td>\n",
       "      <td>Autarquia</td>\n",
       "    </tr>\n",
       "    <tr>\n",
       "      <th>253</th>\n",
       "      <td>Universidade Federal de Itajubá</td>\n",
       "      <td>Autarquia</td>\n",
       "    </tr>\n",
       "    <tr>\n",
       "      <th>254</th>\n",
       "      <td>Universidade Federal de Juiz de Fora</td>\n",
       "      <td>Autarquia</td>\n",
       "    </tr>\n",
       "    <tr>\n",
       "      <th>255</th>\n",
       "      <td>Universidade Federal de Lavras</td>\n",
       "      <td>Autarquia</td>\n",
       "    </tr>\n",
       "    <tr>\n",
       "      <th>256</th>\n",
       "      <td>Universidade Federal de Minas Gerais</td>\n",
       "      <td>Autarquia</td>\n",
       "    </tr>\n",
       "    <tr>\n",
       "      <th>257</th>\n",
       "      <td>Universidade Federal de Pernambuco</td>\n",
       "      <td>Autarquia</td>\n",
       "    </tr>\n",
       "    <tr>\n",
       "      <th>258</th>\n",
       "      <td>Universidade Federal de Santa Catarina</td>\n",
       "      <td>Autarquia</td>\n",
       "    </tr>\n",
       "    <tr>\n",
       "      <th>259</th>\n",
       "      <td>Universidade Federal de Santa Maria</td>\n",
       "      <td>Autarquia</td>\n",
       "    </tr>\n",
       "    <tr>\n",
       "      <th>260</th>\n",
       "      <td>Universidade Federal de São Paulo</td>\n",
       "      <td>Autarquia</td>\n",
       "    </tr>\n",
       "    <tr>\n",
       "      <th>261</th>\n",
       "      <td>Universidade Federal de Uberlândia</td>\n",
       "      <td>Fundação Pública</td>\n",
       "    </tr>\n",
       "    <tr>\n",
       "      <th>262</th>\n",
       "      <td>Universidade Federal do Cariri</td>\n",
       "      <td>Autarquia</td>\n",
       "    </tr>\n",
       "    <tr>\n",
       "      <th>263</th>\n",
       "      <td>Universidade Federal do Ceará</td>\n",
       "      <td>Autarquia</td>\n",
       "    </tr>\n",
       "    <tr>\n",
       "      <th>264</th>\n",
       "      <td>Universidade Federal do Espírito Santo</td>\n",
       "      <td>Autarquia</td>\n",
       "    </tr>\n",
       "    <tr>\n",
       "      <th>265</th>\n",
       "      <td>Universidade Federal do Estado do Rio de Janeiro</td>\n",
       "      <td>Fundação Pública</td>\n",
       "    </tr>\n",
       "    <tr>\n",
       "      <th>266</th>\n",
       "      <td>Universidade Federal do Oeste da Bahia</td>\n",
       "      <td>Autarquia</td>\n",
       "    </tr>\n",
       "    <tr>\n",
       "      <th>267</th>\n",
       "      <td>Universidade Federal do Oeste do Pará</td>\n",
       "      <td>Autarquia</td>\n",
       "    </tr>\n",
       "    <tr>\n",
       "      <th>268</th>\n",
       "      <td>Universidade Federal do Paraná</td>\n",
       "      <td>Autarquia</td>\n",
       "    </tr>\n",
       "    <tr>\n",
       "      <th>269</th>\n",
       "      <td>Universidade Federal do Pará</td>\n",
       "      <td>Autarquia</td>\n",
       "    </tr>\n",
       "    <tr>\n",
       "      <th>270</th>\n",
       "      <td>Universidade Federal do Recôncavo da Bahia</td>\n",
       "      <td>Autarquia</td>\n",
       "    </tr>\n",
       "    <tr>\n",
       "      <th>271</th>\n",
       "      <td>Universidade Federal do Rio Grande do Norte</td>\n",
       "      <td>Autarquia</td>\n",
       "    </tr>\n",
       "    <tr>\n",
       "      <th>272</th>\n",
       "      <td>Universidade Federal do Rio Grande do Sul</td>\n",
       "      <td>Autarquia</td>\n",
       "    </tr>\n",
       "    <tr>\n",
       "      <th>273</th>\n",
       "      <td>Universidade Federal do Rio de Janeiro</td>\n",
       "      <td>Autarquia</td>\n",
       "    </tr>\n",
       "    <tr>\n",
       "      <th>274</th>\n",
       "      <td>Universidade Federal do Sul da Bahia</td>\n",
       "      <td>Autarquia</td>\n",
       "    </tr>\n",
       "    <tr>\n",
       "      <th>275</th>\n",
       "      <td>Universidade Federal do Sul e Sudeste do Pará</td>\n",
       "      <td>Autarquia</td>\n",
       "    </tr>\n",
       "    <tr>\n",
       "      <th>276</th>\n",
       "      <td>Universidade Federal do Triângulo Mineiro</td>\n",
       "      <td>Autarquia</td>\n",
       "    </tr>\n",
       "    <tr>\n",
       "      <th>277</th>\n",
       "      <td>Universidade Federal dos Vales do Jequitinhonh...</td>\n",
       "      <td>Autarquia</td>\n",
       "    </tr>\n",
       "    <tr>\n",
       "      <th>278</th>\n",
       "      <td>Universidade Tecnológica Federal do Paraná</td>\n",
       "      <td>Autarquia</td>\n",
       "    </tr>\n",
       "    <tr>\n",
       "      <th>279</th>\n",
       "      <td>Universidade da Integração Internacional da Lu...</td>\n",
       "      <td>Autarquia</td>\n",
       "    </tr>\n",
       "    <tr>\n",
       "      <th>280</th>\n",
       "      <td>VALEC - Engenharia, Construções e Ferrovias S.A.</td>\n",
       "      <td>Empresa Pública</td>\n",
       "    </tr>\n",
       "    <tr>\n",
       "      <th>281</th>\n",
       "      <td>Vice-Presidência da República</td>\n",
       "      <td>Administração Direta</td>\n",
       "    </tr>\n",
       "  </tbody>\n",
       "</table>\n",
       "<p>282 rows × 2 columns</p>\n",
       "</div>"
      ],
      "text/plain": [
       "                                                  nome  \\\n",
       "0                             Advocacia-Geral da União   \n",
       "1    Agência Brasileira Gestora de Fundos Garantido...   \n",
       "2                          Agência Espacial Brasileira   \n",
       "3                    Agência Nacional de Aviação Civil   \n",
       "4                 Agência Nacional de Energia Elétrica   \n",
       "5                Agência Nacional de Saúde Suplementar   \n",
       "6                 Agência Nacional de Telecomunicações   \n",
       "7          Agência Nacional de Transportes Aquaviários   \n",
       "8           Agência Nacional de Transportes Terrestres   \n",
       "9             Agência Nacional de Vigilância Sanitária   \n",
       "10                           Agência Nacional de Águas   \n",
       "11                          Agência Nacional do Cinema   \n",
       "12   Agência Nacional do Petróleo, Gás Natural e Bi...   \n",
       "13            Amazônia Azul Tecnologias de Defesa S.A.   \n",
       "14      Assessoria Especial do Presidente da República   \n",
       "15                         Autoridade Pública Olímpica   \n",
       "16                             Banco Central do Brasil   \n",
       "17   Banco Nacional de Desenvolvimento Econômico e ...   \n",
       "18                              Banco da Amazônia S.A.   \n",
       "19                                Banco do Brasil S.A.   \n",
       "20                    Banco do Nordeste do Brasil S.A.   \n",
       "21                             Caixa Econômica Federal   \n",
       "22   Caixa de Construções de Casas para o Pessoal d...   \n",
       "23   Caixa de Financiamento Imobiliário da Aeronáutica   \n",
       "24              Casa Civil da Presidência da República   \n",
       "25              Casa Civil da Presidência da República   \n",
       "26                             Casa da Moeda do Brasil   \n",
       "27                  Centrais Elétricas Brasileiras S/A   \n",
       "28                  Centrais Elétricas Brasileiras S/A   \n",
       "29      Centrais de Abastecimento de Minas Gerais S.A.   \n",
       "..                                                 ...   \n",
       "252                      Universidade Federal de Goiás   \n",
       "253                    Universidade Federal de Itajubá   \n",
       "254               Universidade Federal de Juiz de Fora   \n",
       "255                     Universidade Federal de Lavras   \n",
       "256               Universidade Federal de Minas Gerais   \n",
       "257                 Universidade Federal de Pernambuco   \n",
       "258             Universidade Federal de Santa Catarina   \n",
       "259                Universidade Federal de Santa Maria   \n",
       "260                  Universidade Federal de São Paulo   \n",
       "261                 Universidade Federal de Uberlândia   \n",
       "262                    Universidade Federal do Cariri    \n",
       "263                      Universidade Federal do Ceará   \n",
       "264             Universidade Federal do Espírito Santo   \n",
       "265   Universidade Federal do Estado do Rio de Janeiro   \n",
       "266             Universidade Federal do Oeste da Bahia   \n",
       "267              Universidade Federal do Oeste do Pará   \n",
       "268                     Universidade Federal do Paraná   \n",
       "269                       Universidade Federal do Pará   \n",
       "270         Universidade Federal do Recôncavo da Bahia   \n",
       "271        Universidade Federal do Rio Grande do Norte   \n",
       "272          Universidade Federal do Rio Grande do Sul   \n",
       "273             Universidade Federal do Rio de Janeiro   \n",
       "274               Universidade Federal do Sul da Bahia   \n",
       "275      Universidade Federal do Sul e Sudeste do Pará   \n",
       "276          Universidade Federal do Triângulo Mineiro   \n",
       "277  Universidade Federal dos Vales do Jequitinhonh...   \n",
       "278         Universidade Tecnológica Federal do Paraná   \n",
       "279  Universidade da Integração Internacional da Lu...   \n",
       "280  VALEC - Engenharia, Construções e Ferrovias S.A.    \n",
       "281                      Vice-Presidência da República   \n",
       "\n",
       "          codigoNaturezaJuridica  \n",
       "0           Administração Direta  \n",
       "1                Empresa Pública  \n",
       "2                      Autarquia  \n",
       "3                      Autarquia  \n",
       "4                      Autarquia  \n",
       "5                      Autarquia  \n",
       "6                      Autarquia  \n",
       "7                      Autarquia  \n",
       "8                      Autarquia  \n",
       "9                      Autarquia  \n",
       "10                     Autarquia  \n",
       "11                     Autarquia  \n",
       "12                     Autarquia  \n",
       "13               Empresa Pública  \n",
       "14          Administração Direta  \n",
       "15                     Autarquia  \n",
       "16                     Autarquia  \n",
       "17               Empresa Pública  \n",
       "18   Sociedade de Economia Mista  \n",
       "19   Sociedade de Economia Mista  \n",
       "20   Sociedade de Economia Mista  \n",
       "21               Empresa Pública  \n",
       "22                     Autarquia  \n",
       "23                     Autarquia  \n",
       "24          Administração Direta  \n",
       "25          Administração Direta  \n",
       "26               Empresa Pública  \n",
       "27   Sociedade de Economia Mista  \n",
       "28   Sociedade de Economia Mista  \n",
       "29   Sociedade de Economia Mista  \n",
       "..                           ...  \n",
       "252                    Autarquia  \n",
       "253                    Autarquia  \n",
       "254                    Autarquia  \n",
       "255                    Autarquia  \n",
       "256                    Autarquia  \n",
       "257                    Autarquia  \n",
       "258                    Autarquia  \n",
       "259                    Autarquia  \n",
       "260                    Autarquia  \n",
       "261             Fundação Pública  \n",
       "262                    Autarquia  \n",
       "263                    Autarquia  \n",
       "264                    Autarquia  \n",
       "265             Fundação Pública  \n",
       "266                    Autarquia  \n",
       "267                    Autarquia  \n",
       "268                    Autarquia  \n",
       "269                    Autarquia  \n",
       "270                    Autarquia  \n",
       "271                    Autarquia  \n",
       "272                    Autarquia  \n",
       "273                    Autarquia  \n",
       "274                    Autarquia  \n",
       "275                    Autarquia  \n",
       "276                    Autarquia  \n",
       "277                    Autarquia  \n",
       "278                    Autarquia  \n",
       "279                    Autarquia  \n",
       "280              Empresa Pública  \n",
       "281         Administração Direta  \n",
       "\n",
       "[282 rows x 2 columns]"
      ]
     },
     "execution_count": 76,
     "metadata": {},
     "output_type": "execute_result"
    }
   ],
   "source": [
    "final\n"
   ]
  },
  {
   "cell_type": "code",
   "execution_count": null,
   "metadata": {
    "collapsed": true
   },
   "outputs": [],
   "source": []
  },
  {
   "cell_type": "code",
   "execution_count": 79,
   "metadata": {
    "collapsed": false
   },
   "outputs": [],
   "source": [
    "final.to_excel('C:\\\\Users\\\\71488804168\\\\Desktop\\\\Scripts\\\\Saídas\\\\lista de órgãos e entidades.xlsx')"
   ]
  },
  {
   "cell_type": "code",
   "execution_count": null,
   "metadata": {
    "collapsed": true
   },
   "outputs": [],
   "source": []
  },
  {
   "cell_type": "code",
   "execution_count": null,
   "metadata": {
    "collapsed": true
   },
   "outputs": [],
   "source": []
  },
  {
   "cell_type": "code",
   "execution_count": null,
   "metadata": {
    "collapsed": true
   },
   "outputs": [],
   "source": []
  },
  {
   "cell_type": "code",
   "execution_count": 72,
   "metadata": {
    "collapsed": false
   },
   "outputs": [],
   "source": []
  },
  {
   "cell_type": "code",
   "execution_count": null,
   "metadata": {
    "collapsed": true
   },
   "outputs": [],
   "source": []
  },
  {
   "cell_type": "code",
   "execution_count": null,
   "metadata": {
    "collapsed": true
   },
   "outputs": [],
   "source": []
  },
  {
   "cell_type": "code",
   "execution_count": null,
   "metadata": {
    "collapsed": true
   },
   "outputs": [],
   "source": []
  },
  {
   "cell_type": "code",
   "execution_count": null,
   "metadata": {
    "collapsed": true
   },
   "outputs": [],
   "source": []
  },
  {
   "cell_type": "code",
   "execution_count": null,
   "metadata": {
    "collapsed": true
   },
   "outputs": [],
   "source": []
  },
  {
   "cell_type": "code",
   "execution_count": null,
   "metadata": {
    "collapsed": true
   },
   "outputs": [],
   "source": []
  },
  {
   "cell_type": "code",
   "execution_count": null,
   "metadata": {
    "collapsed": true
   },
   "outputs": [],
   "source": []
  },
  {
   "cell_type": "code",
   "execution_count": null,
   "metadata": {
    "collapsed": true
   },
   "outputs": [],
   "source": []
  },
  {
   "cell_type": "code",
   "execution_count": null,
   "metadata": {
    "collapsed": true
   },
   "outputs": [],
   "source": []
  },
  {
   "cell_type": "code",
   "execution_count": null,
   "metadata": {
    "collapsed": true
   },
   "outputs": [],
   "source": []
  },
  {
   "cell_type": "code",
   "execution_count": null,
   "metadata": {
    "collapsed": true
   },
   "outputs": [],
   "source": []
  }
 ],
 "metadata": {
  "anaconda-cloud": {},
  "kernelspec": {
   "display_name": "Python [conda root]",
   "language": "python",
   "name": "conda-root-py"
  },
  "language_info": {
   "codemirror_mode": {
    "name": "ipython",
    "version": 3
   },
   "file_extension": ".py",
   "mimetype": "text/x-python",
   "name": "python",
   "nbconvert_exporter": "python",
   "pygments_lexer": "ipython3",
   "version": "3.5.2"
  }
 },
 "nbformat": 4,
 "nbformat_minor": 1
}
