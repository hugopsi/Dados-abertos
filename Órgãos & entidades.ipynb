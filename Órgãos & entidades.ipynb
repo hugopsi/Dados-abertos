{
 "cells": [
  {
   "cell_type": "code",
   "execution_count": 1,
   "metadata": {
    "collapsed": true
   },
   "outputs": [],
   "source": [
    "import json\n",
    "import urllib.request\n",
    "import pandas as pd"
   ]
  },
  {
   "cell_type": "code",
   "execution_count": 2,
   "metadata": {
    "collapsed": false
   },
   "outputs": [],
   "source": [
    "url = 'http://estruturaorganizacional.dados.gov.br/doc/orgao-entidade'"
   ]
  },
  {
   "cell_type": "code",
   "execution_count": 3,
   "metadata": {
    "collapsed": false
   },
   "outputs": [],
   "source": [
    "serviço = json.loads(urllib.request.urlopen(url).read().decode())"
   ]
  },
  {
   "cell_type": "code",
   "execution_count": 4,
   "metadata": {
    "collapsed": false
   },
   "outputs": [],
   "source": [
    "data = pd.DataFrame(serviço['unidades'])"
   ]
  },
  {
   "cell_type": "code",
   "execution_count": 5,
   "metadata": {
    "collapsed": false
   },
   "outputs": [
    {
     "data": {
      "text/plain": [
       "Index(['codigoEsfera', 'codigoNaturezaJuridica', 'codigoOrgaoEntidade',\n",
       "       'codigoPoder', 'codigoSubNaturezaJuridica', 'codigoTipoUnidade',\n",
       "       'codigoUnidade', 'codigoUnidadePai', 'dataFinalVersaoConsulta',\n",
       "       'dataInicialVersaoConsulta', 'nivelNormatizacao', 'nome', 'operacao',\n",
       "       'sigla', 'versaoConsulta'],\n",
       "      dtype='object')"
      ]
     },
     "execution_count": 5,
     "metadata": {},
     "output_type": "execute_result"
    }
   ],
   "source": [
    "data.columns"
   ]
  },
  {
   "cell_type": "code",
   "execution_count": 6,
   "metadata": {
    "collapsed": false
   },
   "outputs": [],
   "source": [
    "data_1 = data[['codigoUnidade','nome','codigoNaturezaJuridica']]"
   ]
  },
  {
   "cell_type": "code",
   "execution_count": 7,
   "metadata": {
    "collapsed": false
   },
   "outputs": [],
   "source": [
    "data_1 = data_1.replace('http://estruturaorganizacional.dados.gov.br/id/unidade-organizacional/', '', regex=True)"
   ]
  },
  {
   "cell_type": "code",
   "execution_count": 8,
   "metadata": {
    "collapsed": false
   },
   "outputs": [
    {
     "data": {
      "text/plain": [
       "array(['http://estruturaorganizacional.dados.gov.br/id/natureza-juridica/3',\n",
       "       'http://estruturaorganizacional.dados.gov.br/id/natureza-juridica/1',\n",
       "       'http://estruturaorganizacional.dados.gov.br/id/natureza-juridica/2',\n",
       "       'http://estruturaorganizacional.dados.gov.br/id/natureza-juridica/6',\n",
       "       'http://estruturaorganizacional.dados.gov.br/id/natureza-juridica/4'], dtype=object)"
      ]
     },
     "execution_count": 8,
     "metadata": {},
     "output_type": "execute_result"
    }
   ],
   "source": [
    "data_1['codigoNaturezaJuridica'].unique()"
   ]
  },
  {
   "cell_type": "code",
   "execution_count": 9,
   "metadata": {
    "collapsed": false
   },
   "outputs": [],
   "source": [
    "data_1 = data_1.replace('http://estruturaorganizacional.dados.gov.br/id/natureza-juridica/1', 'Empresa Pública', regex=True)\n",
    "data_1 = data_1.replace('http://estruturaorganizacional.dados.gov.br/id/natureza-juridica/2', 'Fundação Pública', regex=True)\n",
    "data_1 = data_1.replace('http://estruturaorganizacional.dados.gov.br/id/natureza-juridica/3', 'Administração Direta', regex=True)\n",
    "data_1 = data_1.replace('http://estruturaorganizacional.dados.gov.br/id/natureza-juridica/4', 'Autarquia', regex=True)\n",
    "data_1 = data_1.replace('http://estruturaorganizacional.dados.gov.br/id/natureza-juridica/6', 'Sociedade de Economia Mista', regex=True)"
   ]
  },
  {
   "cell_type": "code",
   "execution_count": 10,
   "metadata": {
    "collapsed": false
   },
   "outputs": [
    {
     "data": {
      "text/html": [
       "<div>\n",
       "<table border=\"1\" class=\"dataframe\">\n",
       "  <thead>\n",
       "    <tr style=\"text-align: right;\">\n",
       "      <th></th>\n",
       "      <th>codigoUnidade</th>\n",
       "      <th>nome</th>\n",
       "      <th>codigoNaturezaJuridica</th>\n",
       "    </tr>\n",
       "  </thead>\n",
       "  <tbody>\n",
       "    <tr>\n",
       "      <th>0</th>\n",
       "      <td>200002</td>\n",
       "      <td>Governo do Distrito Federal</td>\n",
       "      <td>Administração Direta</td>\n",
       "    </tr>\n",
       "    <tr>\n",
       "      <th>1</th>\n",
       "      <td>1</td>\n",
       "      <td>Financiadora de Estudos e Projetos</td>\n",
       "      <td>Empresa Pública</td>\n",
       "    </tr>\n",
       "    <tr>\n",
       "      <th>2</th>\n",
       "      <td>2</td>\n",
       "      <td>Banco Nacional de Desenvolvimento Econômico e ...</td>\n",
       "      <td>Empresa Pública</td>\n",
       "    </tr>\n",
       "    <tr>\n",
       "      <th>3</th>\n",
       "      <td>3</td>\n",
       "      <td>Fundação Instituto Brasileiro de Geografia e E...</td>\n",
       "      <td>Fundação Pública</td>\n",
       "    </tr>\n",
       "    <tr>\n",
       "      <th>4</th>\n",
       "      <td>7</td>\n",
       "      <td>Fundação Instituto de Pesquisa Econômica Aplicada</td>\n",
       "      <td>Fundação Pública</td>\n",
       "    </tr>\n",
       "  </tbody>\n",
       "</table>\n",
       "</div>"
      ],
      "text/plain": [
       "  codigoUnidade                                               nome  \\\n",
       "0        200002                        Governo do Distrito Federal   \n",
       "1             1                 Financiadora de Estudos e Projetos   \n",
       "2             2  Banco Nacional de Desenvolvimento Econômico e ...   \n",
       "3             3  Fundação Instituto Brasileiro de Geografia e E...   \n",
       "4             7  Fundação Instituto de Pesquisa Econômica Aplicada   \n",
       "\n",
       "  codigoNaturezaJuridica  \n",
       "0   Administração Direta  \n",
       "1        Empresa Pública  \n",
       "2        Empresa Pública  \n",
       "3       Fundação Pública  \n",
       "4       Fundação Pública  "
      ]
     },
     "execution_count": 10,
     "metadata": {},
     "output_type": "execute_result"
    }
   ],
   "source": [
    "data_1.head()"
   ]
  },
  {
   "cell_type": "code",
   "execution_count": null,
   "metadata": {
    "collapsed": true
   },
   "outputs": [],
   "source": []
  }
 ],
 "metadata": {
  "anaconda-cloud": {},
  "kernelspec": {
   "display_name": "Python [conda root]",
   "language": "python",
   "name": "conda-root-py"
  },
  "language_info": {
   "codemirror_mode": {
    "name": "ipython",
    "version": 3
   },
   "file_extension": ".py",
   "mimetype": "text/x-python",
   "name": "python",
   "nbconvert_exporter": "python",
   "pygments_lexer": "ipython3",
   "version": "3.5.2"
  }
 },
 "nbformat": 4,
 "nbformat_minor": 1
}
