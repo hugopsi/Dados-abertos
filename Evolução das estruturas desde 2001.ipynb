{
 "cells": [
  {
   "cell_type": "code",
   "execution_count": 49,
   "metadata": {
    "collapsed": true
   },
   "outputs": [],
   "source": [
    "import pandas as pd\n",
    "import numpy as np"
   ]
  },
  {
   "cell_type": "code",
   "execution_count": 128,
   "metadata": {
    "collapsed": false
   },
   "outputs": [
    {
     "name": "stderr",
     "output_type": "stream",
     "text": [
      "C:\\Users\\71488804168\\AppData\\Local\\Continuum\\Anaconda3\\lib\\site-packages\\pandas\\core\\indexing.py:132: SettingWithCopyWarning: \n",
      "A value is trying to be set on a copy of a slice from a DataFrame\n",
      "\n",
      "See the caveats in the documentation: http://pandas.pydata.org/pandas-docs/stable/indexing.html#indexing-view-versus-copy\n",
      "  self._setitem_with_indexer(indexer, value)\n"
     ]
    }
   ],
   "source": [
    "filtro_1 = ['2001','2002','2003']\n",
    "filtro_2 = [    ('2015','2018'),\n",
    "                ('2011','2014'),\n",
    "                ('2007','2010'),\n",
    "                ('2004','2006')]\n",
    "decretos = pd.read_excel('Decrdetos_Estruturas_2001a2017.xls')\n",
    "decretos['n'] = decretos['LEGISLAÇÃO'].str.replace('^.* ','')\n",
    "decretos['ano'] = decretos['DATA'].dt.strftime('%Y')\n",
    "decretos['url'] = np.nan\n",
    "for x in filtro_1:\n",
    "    temp = decretos[decretos['DATA'].dt.strftime('%Y') == x].index\n",
    "    decretos['url'].iloc[temp] = 'https://www.planalto.gov.br/ccivil_03/decreto/'+x+'/D'+decretos['n']+'.htm'\n",
    "decretos['url'][2]\n",
    "for intervalo in filtro_2:\n",
    "    temp = decretos[(decretos['DATA']>=intervalo[0]) & (decretos['DATA']<=intervalo[1])].index\n",
    "    decretos['url'].iloc[temp] = 'https://www.planalto.gov.br/ccivil_03/_ato'+intervalo[0]+'-'+intervalo[1]+'/'+decretos['ano']+'/'+'/Decreto/D'+decretos['n']+'.htm'"
   ]
  }
 ],
 "metadata": {
  "anaconda-cloud": {},
  "kernelspec": {
   "display_name": "Python [conda root]",
   "language": "python",
   "name": "conda-root-py"
  },
  "language_info": {
   "codemirror_mode": {
    "name": "ipython",
    "version": 3
   },
   "file_extension": ".py",
   "mimetype": "text/x-python",
   "name": "python",
   "nbconvert_exporter": "python",
   "pygments_lexer": "ipython3",
   "version": "3.5.2"
  }
 },
 "nbformat": 4,
 "nbformat_minor": 1
}
